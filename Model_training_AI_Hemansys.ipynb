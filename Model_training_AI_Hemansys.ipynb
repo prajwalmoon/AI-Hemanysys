{
  "nbformat": 4,
  "nbformat_minor": 0,
  "metadata": {
    "colab": {
      "name": "Model_training_AI-Hemansys.ipynb",
      "provenance": [],
      "collapsed_sections": [],
      "mount_file_id": "1i-Q0rGKIN3i37XKc_o6F60eYCI-rXM1b",
      "authorship_tag": "ABX9TyPoezM5tCDAkQPxHRXrFQyR",
      "include_colab_link": true
    },
    "kernelspec": {
      "display_name": "Python 3",
      "name": "python3"
    },
    "language_info": {
      "name": "python"
    },
    "accelerator": "GPU"
  },
  "cells": [
    {
      "cell_type": "markdown",
      "metadata": {
        "id": "view-in-github",
        "colab_type": "text"
      },
      "source": [
        "<a href=\"https://colab.research.google.com/github/PrithvirajChauhan1/AI-Hemanysys/blob/main/Model_training_AI_Hemansys.ipynb\" target=\"_parent\"><img src=\"https://colab.research.google.com/assets/colab-badge.svg\" alt=\"Open In Colab\"/></a>"
      ]
    },
    {
      "cell_type": "code",
      "metadata": {
        "id": "ukqX7h-WxsGn"
      },
      "source": [
        "import pandas as pd\n",
        "import numpy as np \n",
        "import itertools\n",
        "import keras\n",
        "import tensorflow\n",
        "\n",
        "from sklearn import metrics\n",
        "from sklearn.metrics import confusion_matrix\n",
        "from keras.preprocessing.image import ImageDataGenerator, img_to_array, load_img \n",
        "from keras.models import Sequential \n",
        "from keras import optimizers\n",
        "from keras.preprocessing import image\n",
        "from keras.layers import Dropout, Flatten, Dense \n",
        "from tensorflow.keras import applications \n",
        "from keras.utils.np_utils import to_categorical \n",
        "import matplotlib.pyplot as plt \n",
        "import matplotlib.image as mpimg\n",
        "#%matplotlib inline\n",
        "import math \n",
        "import datetime\n",
        "import time"
      ],
      "execution_count": null,
      "outputs": []
    },
    {
      "cell_type": "markdown",
      "metadata": {
        "id": "T6hWJDkiyARy"
      },
      "source": [
        "# **Defining the Dimensions and the directory of the train and test set**"
      ]
    },
    {
      "cell_type": "code",
      "metadata": {
        "id": "YdQ_S8EUxyd-"
      },
      "source": [
        "#Default dimensions we found online\n",
        "img_width, img_height = 224, 224 \n",
        " \n",
        "#Create a bottleneck file\n",
        "top_model_weights_path = 'bottleneck_fc_model.h5'\n",
        "# loading up our datasets\n",
        "train_data_dir = '/content/drive/MyDrive/data/train'\n",
        "validation_data_dir = '/content/drive/MyDrive/data/validation' \n",
        "test_data_dir = '/content/drive/MyDrive/data/test'\n",
        " \n",
        "# number of epochs to train top model \n",
        "epochs = 7 #this has been changed after multiple model run \n",
        "# batch size used by flow_from_directory and predict_generator \n",
        "batch_size = 10 "
      ],
      "execution_count": null,
      "outputs": []
    },
    {
      "cell_type": "code",
      "metadata": {
        "colab": {
          "base_uri": "https://localhost:8080/"
        },
        "id": "0mKCbj4Aydjn",
        "outputId": "9fda7835-f8eb-4c46-8a04-6086b06f1aa2"
      },
      "source": [
        "vgg16 = applications.VGG16(include_top=False, weights='imagenet')"
      ],
      "execution_count": null,
      "outputs": [
        {
          "output_type": "stream",
          "text": [
            "Downloading data from https://storage.googleapis.com/tensorflow/keras-applications/vgg16/vgg16_weights_tf_dim_ordering_tf_kernels_notop.h5\n",
            "58892288/58889256 [==============================] - 1s 0us/step\n"
          ],
          "name": "stdout"
        }
      ]
    },
    {
      "cell_type": "code",
      "metadata": {
        "id": "g1bglSNGdTnG"
      },
      "source": [
        "datagen = ImageDataGenerator(rescale=1. / 255)"
      ],
      "execution_count": null,
      "outputs": []
    },
    {
      "cell_type": "code",
      "metadata": {
        "colab": {
          "base_uri": "https://localhost:8080/"
        },
        "id": "CQeOG55Rdd4P",
        "outputId": "f6b6a99a-2dcb-4162-956e-65f2cf222aeb"
      },
      "source": [
        "start = datetime.datetime.now()\n",
        "   \n",
        "generator = datagen.flow_from_directory(  \n",
        "     train_data_dir,  \n",
        "     target_size=(img_width, img_height),  \n",
        "     batch_size=batch_size,  \n",
        "     class_mode=None,  \n",
        "     shuffle=False)  \n",
        "   \n",
        "nb_train_samples = len(generator.filenames)  \n",
        "num_classes = len(generator.class_indices)  \n",
        "   \n",
        "predict_size_train = int(math.ceil(nb_train_samples / batch_size))  \n",
        "   \n",
        "bottleneck_features_train = vgg16.predict_generator(generator, predict_size_train)  \n",
        "   \n",
        "np.save('bottleneck_features_train.npy', bottleneck_features_train)\n",
        "end= datetime.datetime.now()\n",
        "elapsed= end-start\n",
        "print ('Time: ', elapsed)"
      ],
      "execution_count": null,
      "outputs": [
        {
          "output_type": "stream",
          "text": [
            "Found 270 images belonging to 4 classes.\n"
          ],
          "name": "stdout"
        },
        {
          "output_type": "stream",
          "text": [
            "/usr/local/lib/python3.7/dist-packages/tensorflow/python/keras/engine/training.py:2001: UserWarning: `Model.predict_generator` is deprecated and will be removed in a future version. Please use `Model.predict`, which supports generators.\n",
            "  warnings.warn('`Model.predict_generator` is deprecated and '\n"
          ],
          "name": "stderr"
        },
        {
          "output_type": "stream",
          "text": [
            "Time:  0:01:54.604851\n"
          ],
          "name": "stdout"
        }
      ]
    },
    {
      "cell_type": "code",
      "metadata": {
        "colab": {
          "base_uri": "https://localhost:8080/"
        },
        "id": "rLXUdRjHeAvm",
        "outputId": "6c95bd05-d6d2-434d-aa12-cec600bbe78a"
      },
      "source": [
        "start = datetime.datetime.now()\n",
        "generator = datagen.flow_from_directory(  \n",
        "     validation_data_dir,  \n",
        "     target_size=(img_width, img_height),  \n",
        "     batch_size=batch_size,  \n",
        "     class_mode=None,  \n",
        "     shuffle=False)  \n",
        "   \n",
        "nb_validation_samples = len(generator.filenames)  \n",
        "   \n",
        "predict_size_validation = int(math.ceil(nb_validation_samples / batch_size))  \n",
        "   \n",
        "bottleneck_features_validation = vgg16.predict_generator(  \n",
        "     generator, predict_size_validation)  \n",
        "   \n",
        "np.save('bottleneck_features_validation.npy', bottleneck_features_validation) \n",
        "end= datetime.datetime.now()\n",
        "elapsed= end-start\n",
        "print ('Time: ', elapsed)"
      ],
      "execution_count": null,
      "outputs": [
        {
          "output_type": "stream",
          "text": [
            "Found 140 images belonging to 4 classes.\n"
          ],
          "name": "stdout"
        },
        {
          "output_type": "stream",
          "text": [
            "/usr/local/lib/python3.7/dist-packages/tensorflow/python/keras/engine/training.py:2001: UserWarning: `Model.predict_generator` is deprecated and will be removed in a future version. Please use `Model.predict`, which supports generators.\n",
            "  warnings.warn('`Model.predict_generator` is deprecated and '\n"
          ],
          "name": "stderr"
        },
        {
          "output_type": "stream",
          "text": [
            "Time:  0:00:39.929714\n"
          ],
          "name": "stdout"
        }
      ]
    },
    {
      "cell_type": "code",
      "metadata": {
        "colab": {
          "base_uri": "https://localhost:8080/"
        },
        "id": "f1AuMJZ9eA8E",
        "outputId": "f0aabefd-c58b-47be-d123-d71c48540e2c"
      },
      "source": [
        "\n",
        "start = datetime.datetime.now()\n",
        "generator = datagen.flow_from_directory(  \n",
        "     test_data_dir,  \n",
        "     target_size=(img_width, img_height),  \n",
        "     batch_size=batch_size,  \n",
        "     class_mode=None,  \n",
        "     shuffle=False)  \n",
        "   \n",
        "nb_test_samples = len(generator.filenames)  \n",
        "   \n",
        "predict_size_test = int(math.ceil(nb_test_samples / batch_size))  \n",
        "   \n",
        "bottleneck_features_test = vgg16.predict_generator(  \n",
        "     generator, predict_size_test)  \n",
        "   \n",
        "np.save('bottleneck_features_test.npy', bottleneck_features_test) \n",
        "end= datetime.datetime.now()\n",
        "elapsed= end-start\n",
        "print ('Time: ', elapsed)"
      ],
      "execution_count": null,
      "outputs": [
        {
          "output_type": "stream",
          "text": [
            "Found 160 images belonging to 4 classes.\n"
          ],
          "name": "stdout"
        },
        {
          "output_type": "stream",
          "text": [
            "/usr/local/lib/python3.7/dist-packages/tensorflow/python/keras/engine/training.py:2001: UserWarning: `Model.predict_generator` is deprecated and will be removed in a future version. Please use `Model.predict`, which supports generators.\n",
            "  warnings.warn('`Model.predict_generator` is deprecated and '\n"
          ],
          "name": "stderr"
        },
        {
          "output_type": "stream",
          "text": [
            "Time:  0:00:44.925574\n"
          ],
          "name": "stdout"
        }
      ]
    },
    {
      "cell_type": "code",
      "metadata": {
        "colab": {
          "base_uri": "https://localhost:8080/"
        },
        "id": "aq1wo9cLeKS3",
        "outputId": "c119022d-641b-4526-c9b7-0d56e119c8a0"
      },
      "source": [
        "generator_top = datagen.flow_from_directory(  \n",
        "         train_data_dir,  \n",
        "         target_size=(img_width, img_height),  \n",
        "         batch_size=batch_size,  \n",
        "         class_mode='categorical',  \n",
        "         shuffle=False)  \n",
        "   \n",
        "nb_train_samples = len(generator_top.filenames)  \n",
        "num_classes = len(generator_top.class_indices)  \n",
        "   \n",
        "# load the bottleneck features saved earlier  \n",
        "train_data = np.load('bottleneck_features_train.npy')  \n",
        "   \n",
        "# get the class lebels for the training data, in the original order  \n",
        "train_labels = generator_top.classes  \n",
        "   \n",
        "# convert the training labels to categorical vectors  \n",
        "train_labels = to_categorical(train_labels, num_classes=num_classes)"
      ],
      "execution_count": null,
      "outputs": [
        {
          "output_type": "stream",
          "text": [
            "Found 270 images belonging to 4 classes.\n"
          ],
          "name": "stdout"
        }
      ]
    },
    {
      "cell_type": "code",
      "metadata": {
        "colab": {
          "base_uri": "https://localhost:8080/"
        },
        "id": "o9NG4znreOfc",
        "outputId": "4e94d4d7-52bd-446e-fe25-7309dacbd4bb"
      },
      "source": [
        "generator_top = datagen.flow_from_directory(  \n",
        "         validation_data_dir,  \n",
        "         target_size=(img_width, img_height),  \n",
        "         batch_size=batch_size,  \n",
        "         class_mode=None,  \n",
        "         shuffle=False)  \n",
        "   \n",
        "nb_validation_samples = len(generator_top.filenames)  \n",
        "   \n",
        "validation_data = np.load('bottleneck_features_validation.npy')  \n",
        "   \n",
        "\n",
        "validation_labels = generator_top.classes  \n",
        "validation_labels = to_categorical(validation_labels, num_classes=num_classes)"
      ],
      "execution_count": null,
      "outputs": [
        {
          "output_type": "stream",
          "text": [
            "Found 140 images belonging to 4 classes.\n"
          ],
          "name": "stdout"
        }
      ]
    },
    {
      "cell_type": "code",
      "metadata": {
        "colab": {
          "base_uri": "https://localhost:8080/"
        },
        "id": "GiuLabskePPE",
        "outputId": "01f91bb3-186c-4473-8d45-270130e3d01f"
      },
      "source": [
        "generator_top = datagen.flow_from_directory(  \n",
        "         test_data_dir,  \n",
        "         target_size=(img_width, img_height),  \n",
        "         batch_size=batch_size,  \n",
        "         class_mode=None,  \n",
        "         shuffle=False)  \n",
        "   \n",
        "nb_test_samples = len(generator_top.filenames)  \n",
        "   \n",
        "test_data = np.load('bottleneck_features_test.npy')  \n",
        "   \n",
        "\n",
        "test_labels = generator_top.classes  \n",
        "test_labels = to_categorical(test_labels, num_classes=num_classes)"
      ],
      "execution_count": null,
      "outputs": [
        {
          "output_type": "stream",
          "text": [
            "Found 160 images belonging to 4 classes.\n"
          ],
          "name": "stdout"
        }
      ]
    },
    {
      "cell_type": "code",
      "metadata": {
        "colab": {
          "base_uri": "https://localhost:8080/"
        },
        "id": "4KbDEEGaeRgM",
        "outputId": "a97969d4-31eb-4f2f-a624-2891015c76f4"
      },
      "source": [
        "start = datetime.datetime.now()\n",
        "model = Sequential()  \n",
        "model.add(Flatten(input_shape=train_data.shape[1:]))  \n",
        "model.add(Dense(100, activation=keras.layers.LeakyReLU(alpha=0.3)))  \n",
        "model.add(Dropout(0.5))  \n",
        "model.add(Dense(50, activation=keras.layers.LeakyReLU(alpha=0.3)))  \n",
        "model.add(Dropout(0.3)) \n",
        "model.add(Dense(num_classes, activation='softmax'))  \n",
        "\n",
        "model.compile(loss='categorical_crossentropy',\n",
        "              optimizer=optimizers.RMSprop(lr=1e-4),\n",
        "              metrics=['acc'])  \n",
        "\n",
        "history = model.fit(train_data, train_labels,  \n",
        "      epochs=100,\n",
        "      batch_size=batch_size,  \n",
        "      validation_data=(validation_data, validation_labels))  \n",
        "\n",
        "model.save_weights(top_model_weights_path)  \n",
        "\n",
        "(eval_loss, eval_accuracy) = model.evaluate(  \n",
        " validation_data, validation_labels, batch_size=batch_size, verbose=1)\n",
        "\n",
        "print(\"[INFO] accuracy: {:.2f}%\".format(eval_accuracy * 100))  \n",
        "print(\"[INFO] Loss: {}\".format(eval_loss))  \n",
        "end= datetime.datetime.now()\n",
        "elapsed= end-start\n",
        "print ('Time: ', elapsed)"
      ],
      "execution_count": null,
      "outputs": [
        {
          "output_type": "stream",
          "text": [
            "/usr/local/lib/python3.7/dist-packages/tensorflow/python/keras/optimizer_v2/optimizer_v2.py:375: UserWarning: The `lr` argument is deprecated, use `learning_rate` instead.\n",
            "  \"The `lr` argument is deprecated, use `learning_rate` instead.\")\n"
          ],
          "name": "stderr"
        },
        {
          "output_type": "stream",
          "text": [
            "Epoch 1/100\n",
            "27/27 [==============================] - 12s 27ms/step - loss: 1.2241 - acc: 0.5687 - val_loss: 0.4691 - val_acc: 0.7571\n",
            "Epoch 2/100\n",
            "27/27 [==============================] - 0s 6ms/step - loss: 0.6301 - acc: 0.7223 - val_loss: 0.6590 - val_acc: 0.6357\n",
            "Epoch 3/100\n",
            "27/27 [==============================] - 0s 6ms/step - loss: 0.5157 - acc: 0.7919 - val_loss: 0.4155 - val_acc: 0.7857\n",
            "Epoch 4/100\n",
            "27/27 [==============================] - 0s 6ms/step - loss: 0.4805 - acc: 0.7981 - val_loss: 0.4119 - val_acc: 0.8000\n",
            "Epoch 5/100\n",
            "27/27 [==============================] - 0s 6ms/step - loss: 0.4779 - acc: 0.8271 - val_loss: 0.3397 - val_acc: 0.8214\n",
            "Epoch 6/100\n",
            "27/27 [==============================] - 0s 6ms/step - loss: 0.3281 - acc: 0.9018 - val_loss: 0.3837 - val_acc: 0.8286\n",
            "Epoch 7/100\n",
            "27/27 [==============================] - 0s 5ms/step - loss: 0.3891 - acc: 0.8181 - val_loss: 0.4028 - val_acc: 0.8214\n",
            "Epoch 8/100\n",
            "27/27 [==============================] - 0s 5ms/step - loss: 0.2881 - acc: 0.8903 - val_loss: 0.3860 - val_acc: 0.8286\n",
            "Epoch 9/100\n",
            "27/27 [==============================] - 0s 6ms/step - loss: 0.1888 - acc: 0.9248 - val_loss: 0.5113 - val_acc: 0.8000\n",
            "Epoch 10/100\n",
            "27/27 [==============================] - 0s 6ms/step - loss: 0.1333 - acc: 0.9476 - val_loss: 0.4867 - val_acc: 0.8071\n",
            "Epoch 11/100\n",
            "27/27 [==============================] - 0s 5ms/step - loss: 0.2413 - acc: 0.9069 - val_loss: 0.3525 - val_acc: 0.8429\n",
            "Epoch 12/100\n",
            "27/27 [==============================] - 0s 5ms/step - loss: 0.1014 - acc: 0.9735 - val_loss: 0.3330 - val_acc: 0.8286\n",
            "Epoch 13/100\n",
            "27/27 [==============================] - 0s 6ms/step - loss: 0.2285 - acc: 0.8903 - val_loss: 0.6234 - val_acc: 0.7643\n",
            "Epoch 14/100\n",
            "27/27 [==============================] - 0s 6ms/step - loss: 0.1857 - acc: 0.9104 - val_loss: 0.3776 - val_acc: 0.8571\n",
            "Epoch 15/100\n",
            "27/27 [==============================] - 0s 6ms/step - loss: 0.2167 - acc: 0.8848 - val_loss: 0.3128 - val_acc: 0.8500\n",
            "Epoch 16/100\n",
            "27/27 [==============================] - 0s 5ms/step - loss: 0.1748 - acc: 0.9358 - val_loss: 0.3039 - val_acc: 0.8643\n",
            "Epoch 17/100\n",
            "27/27 [==============================] - 0s 7ms/step - loss: 0.1745 - acc: 0.9383 - val_loss: 0.6539 - val_acc: 0.7857\n",
            "Epoch 18/100\n",
            "27/27 [==============================] - 0s 6ms/step - loss: 0.2075 - acc: 0.9376 - val_loss: 0.2950 - val_acc: 0.8643\n",
            "Epoch 19/100\n",
            "27/27 [==============================] - 0s 6ms/step - loss: 0.0881 - acc: 0.9625 - val_loss: 0.3035 - val_acc: 0.8500\n",
            "Epoch 20/100\n",
            "27/27 [==============================] - 0s 6ms/step - loss: 0.0663 - acc: 0.9799 - val_loss: 0.6909 - val_acc: 0.7786\n",
            "Epoch 21/100\n",
            "27/27 [==============================] - 0s 5ms/step - loss: 0.0814 - acc: 0.9626 - val_loss: 0.6191 - val_acc: 0.7929\n",
            "Epoch 22/100\n",
            "27/27 [==============================] - 0s 5ms/step - loss: 0.0969 - acc: 0.9709 - val_loss: 0.3024 - val_acc: 0.8500\n",
            "Epoch 23/100\n",
            "27/27 [==============================] - 0s 6ms/step - loss: 0.1541 - acc: 0.9512 - val_loss: 0.2827 - val_acc: 0.8643\n",
            "Epoch 24/100\n",
            "27/27 [==============================] - 0s 5ms/step - loss: 0.0658 - acc: 0.9673 - val_loss: 0.3538 - val_acc: 0.8786\n",
            "Epoch 25/100\n",
            "27/27 [==============================] - 0s 5ms/step - loss: 0.1300 - acc: 0.9388 - val_loss: 0.3962 - val_acc: 0.8714\n",
            "Epoch 26/100\n",
            "27/27 [==============================] - 0s 6ms/step - loss: 0.0229 - acc: 0.9981 - val_loss: 0.3275 - val_acc: 0.8857\n",
            "Epoch 27/100\n",
            "27/27 [==============================] - 0s 5ms/step - loss: 0.0461 - acc: 0.9829 - val_loss: 0.5545 - val_acc: 0.8357\n",
            "Epoch 28/100\n",
            "27/27 [==============================] - 0s 6ms/step - loss: 0.0754 - acc: 0.9666 - val_loss: 0.2937 - val_acc: 0.8857\n",
            "Epoch 29/100\n",
            "27/27 [==============================] - 0s 5ms/step - loss: 0.0415 - acc: 0.9937 - val_loss: 0.2955 - val_acc: 0.8857\n",
            "Epoch 30/100\n",
            "27/27 [==============================] - 0s 7ms/step - loss: 0.0474 - acc: 0.9866 - val_loss: 0.3247 - val_acc: 0.9000\n",
            "Epoch 31/100\n",
            "27/27 [==============================] - 0s 6ms/step - loss: 0.0478 - acc: 0.9846 - val_loss: 0.4390 - val_acc: 0.8571\n",
            "Epoch 32/100\n",
            "27/27 [==============================] - 0s 6ms/step - loss: 0.0799 - acc: 0.9736 - val_loss: 1.0273 - val_acc: 0.7857\n",
            "Epoch 33/100\n",
            "27/27 [==============================] - 0s 7ms/step - loss: 0.0443 - acc: 0.9688 - val_loss: 0.3651 - val_acc: 0.8714\n",
            "Epoch 34/100\n",
            "27/27 [==============================] - 0s 5ms/step - loss: 0.0428 - acc: 0.9818 - val_loss: 0.7175 - val_acc: 0.8143\n",
            "Epoch 35/100\n",
            "27/27 [==============================] - 0s 5ms/step - loss: 0.0358 - acc: 0.9847 - val_loss: 0.3768 - val_acc: 0.8857\n",
            "Epoch 36/100\n",
            "27/27 [==============================] - 0s 7ms/step - loss: 0.0516 - acc: 0.9762 - val_loss: 0.8326 - val_acc: 0.8143\n",
            "Epoch 37/100\n",
            "27/27 [==============================] - 0s 5ms/step - loss: 0.0498 - acc: 0.9827 - val_loss: 0.3246 - val_acc: 0.8786\n",
            "Epoch 38/100\n",
            "27/27 [==============================] - 0s 5ms/step - loss: 0.0205 - acc: 1.0000 - val_loss: 0.5042 - val_acc: 0.8786\n",
            "Epoch 39/100\n",
            "27/27 [==============================] - 0s 5ms/step - loss: 0.0385 - acc: 0.9834 - val_loss: 0.7011 - val_acc: 0.8286\n",
            "Epoch 40/100\n",
            "27/27 [==============================] - 0s 5ms/step - loss: 0.0159 - acc: 0.9988 - val_loss: 0.3473 - val_acc: 0.9000\n",
            "Epoch 41/100\n",
            "27/27 [==============================] - 0s 6ms/step - loss: 0.0359 - acc: 0.9795 - val_loss: 0.5053 - val_acc: 0.8500\n",
            "Epoch 42/100\n",
            "27/27 [==============================] - 0s 5ms/step - loss: 0.0339 - acc: 0.9874 - val_loss: 0.5384 - val_acc: 0.8643\n",
            "Epoch 43/100\n",
            "27/27 [==============================] - 0s 6ms/step - loss: 0.0133 - acc: 0.9939 - val_loss: 0.6038 - val_acc: 0.8429\n",
            "Epoch 44/100\n",
            "27/27 [==============================] - 0s 6ms/step - loss: 0.0173 - acc: 0.9983 - val_loss: 0.6945 - val_acc: 0.8357\n",
            "Epoch 45/100\n",
            "27/27 [==============================] - 0s 5ms/step - loss: 0.0111 - acc: 0.9986 - val_loss: 0.7422 - val_acc: 0.8286\n",
            "Epoch 46/100\n",
            "27/27 [==============================] - 0s 5ms/step - loss: 0.0173 - acc: 0.9863 - val_loss: 0.3889 - val_acc: 0.8857\n",
            "Epoch 47/100\n",
            "27/27 [==============================] - 0s 5ms/step - loss: 0.0162 - acc: 0.9961 - val_loss: 0.4713 - val_acc: 0.8786\n",
            "Epoch 48/100\n",
            "27/27 [==============================] - 0s 5ms/step - loss: 0.0262 - acc: 0.9958 - val_loss: 0.3138 - val_acc: 0.8929\n",
            "Epoch 49/100\n",
            "27/27 [==============================] - 0s 5ms/step - loss: 0.0100 - acc: 0.9996 - val_loss: 0.9736 - val_acc: 0.8000\n",
            "Epoch 50/100\n",
            "27/27 [==============================] - 0s 5ms/step - loss: 0.0128 - acc: 0.9961 - val_loss: 0.4767 - val_acc: 0.8929\n",
            "Epoch 51/100\n",
            "27/27 [==============================] - 0s 5ms/step - loss: 0.0176 - acc: 0.9935 - val_loss: 0.3203 - val_acc: 0.8929\n",
            "Epoch 52/100\n",
            "27/27 [==============================] - 0s 5ms/step - loss: 0.0111 - acc: 0.9973 - val_loss: 0.4976 - val_acc: 0.8929\n",
            "Epoch 53/100\n",
            "27/27 [==============================] - 0s 7ms/step - loss: 0.0100 - acc: 0.9968 - val_loss: 0.3563 - val_acc: 0.8929\n",
            "Epoch 54/100\n",
            "27/27 [==============================] - 0s 5ms/step - loss: 0.0237 - acc: 0.9913 - val_loss: 0.3526 - val_acc: 0.8929\n",
            "Epoch 55/100\n",
            "27/27 [==============================] - 0s 6ms/step - loss: 0.0035 - acc: 1.0000 - val_loss: 0.4217 - val_acc: 0.8929\n",
            "Epoch 56/100\n",
            "27/27 [==============================] - 0s 6ms/step - loss: 0.0169 - acc: 0.9893 - val_loss: 0.3776 - val_acc: 0.8857\n",
            "Epoch 57/100\n",
            "27/27 [==============================] - 0s 6ms/step - loss: 0.0220 - acc: 0.9888 - val_loss: 0.5525 - val_acc: 0.8857\n",
            "Epoch 58/100\n",
            "27/27 [==============================] - 0s 6ms/step - loss: 0.0039 - acc: 1.0000 - val_loss: 0.3840 - val_acc: 0.8857\n",
            "Epoch 59/100\n",
            "27/27 [==============================] - 0s 5ms/step - loss: 0.0144 - acc: 0.9924 - val_loss: 0.7753 - val_acc: 0.8357\n",
            "Epoch 60/100\n",
            "27/27 [==============================] - 0s 5ms/step - loss: 0.0085 - acc: 0.9978 - val_loss: 0.4149 - val_acc: 0.8786\n",
            "Epoch 61/100\n",
            "27/27 [==============================] - 0s 5ms/step - loss: 0.0038 - acc: 0.9997 - val_loss: 1.0340 - val_acc: 0.8071\n",
            "Epoch 62/100\n",
            "27/27 [==============================] - 0s 7ms/step - loss: 0.0055 - acc: 0.9977 - val_loss: 0.4966 - val_acc: 0.8929\n",
            "Epoch 63/100\n",
            "27/27 [==============================] - 0s 5ms/step - loss: 0.0044 - acc: 1.0000 - val_loss: 0.8052 - val_acc: 0.8357\n",
            "Epoch 64/100\n",
            "27/27 [==============================] - 0s 6ms/step - loss: 0.0020 - acc: 1.0000 - val_loss: 0.4687 - val_acc: 0.8857\n",
            "Epoch 65/100\n",
            "27/27 [==============================] - 0s 5ms/step - loss: 0.0029 - acc: 1.0000 - val_loss: 1.0362 - val_acc: 0.8143\n",
            "Epoch 66/100\n",
            "27/27 [==============================] - 0s 6ms/step - loss: 0.0018 - acc: 1.0000 - val_loss: 0.4580 - val_acc: 0.8857\n",
            "Epoch 67/100\n",
            "27/27 [==============================] - 0s 6ms/step - loss: 0.0248 - acc: 0.9921 - val_loss: 0.4543 - val_acc: 0.8857\n",
            "Epoch 68/100\n",
            "27/27 [==============================] - 0s 7ms/step - loss: 0.0243 - acc: 0.9856 - val_loss: 0.5503 - val_acc: 0.8929\n",
            "Epoch 69/100\n",
            "27/27 [==============================] - 0s 6ms/step - loss: 0.0012 - acc: 1.0000 - val_loss: 0.5420 - val_acc: 0.8857\n",
            "Epoch 70/100\n",
            "27/27 [==============================] - 0s 5ms/step - loss: 0.0023 - acc: 1.0000 - val_loss: 0.6022 - val_acc: 0.8929\n",
            "Epoch 71/100\n",
            "27/27 [==============================] - 0s 7ms/step - loss: 0.0019 - acc: 1.0000 - val_loss: 0.5469 - val_acc: 0.9000\n",
            "Epoch 72/100\n",
            "27/27 [==============================] - 0s 5ms/step - loss: 0.0062 - acc: 1.0000 - val_loss: 0.7032 - val_acc: 0.8929\n",
            "Epoch 73/100\n",
            "27/27 [==============================] - 0s 6ms/step - loss: 0.0279 - acc: 0.9886 - val_loss: 0.6089 - val_acc: 0.9000\n",
            "Epoch 74/100\n",
            "27/27 [==============================] - 0s 5ms/step - loss: 0.0086 - acc: 0.9895 - val_loss: 0.7682 - val_acc: 0.8714\n",
            "Epoch 75/100\n",
            "27/27 [==============================] - 0s 5ms/step - loss: 8.2782e-04 - acc: 1.0000 - val_loss: 0.7523 - val_acc: 0.8857\n",
            "Epoch 76/100\n",
            "27/27 [==============================] - 0s 6ms/step - loss: 0.0169 - acc: 0.9940 - val_loss: 0.5078 - val_acc: 0.9000\n",
            "Epoch 77/100\n",
            "27/27 [==============================] - 0s 5ms/step - loss: 0.0015 - acc: 1.0000 - val_loss: 0.8918 - val_acc: 0.8357\n",
            "Epoch 78/100\n",
            "27/27 [==============================] - 0s 6ms/step - loss: 0.0017 - acc: 0.9996 - val_loss: 0.5212 - val_acc: 0.8857\n",
            "Epoch 79/100\n",
            "27/27 [==============================] - 0s 7ms/step - loss: 5.4845e-04 - acc: 1.0000 - val_loss: 0.5432 - val_acc: 0.8857\n",
            "Epoch 80/100\n",
            "27/27 [==============================] - 0s 6ms/step - loss: 0.0066 - acc: 0.9952 - val_loss: 0.5839 - val_acc: 0.8857\n",
            "Epoch 81/100\n",
            "27/27 [==============================] - 0s 6ms/step - loss: 0.0056 - acc: 1.0000 - val_loss: 0.9437 - val_acc: 0.8571\n",
            "Epoch 82/100\n",
            "27/27 [==============================] - 0s 5ms/step - loss: 0.0044 - acc: 1.0000 - val_loss: 0.8390 - val_acc: 0.8643\n",
            "Epoch 83/100\n",
            "27/27 [==============================] - 0s 6ms/step - loss: 0.0102 - acc: 0.9988 - val_loss: 0.5170 - val_acc: 0.8857\n",
            "Epoch 84/100\n",
            "27/27 [==============================] - 0s 5ms/step - loss: 0.0013 - acc: 1.0000 - val_loss: 0.5663 - val_acc: 0.9000\n",
            "Epoch 85/100\n",
            "27/27 [==============================] - 0s 6ms/step - loss: 0.0089 - acc: 0.9960 - val_loss: 0.5449 - val_acc: 0.9071\n",
            "Epoch 86/100\n",
            "27/27 [==============================] - 0s 5ms/step - loss: 0.0024 - acc: 1.0000 - val_loss: 1.1969 - val_acc: 0.8143\n",
            "Epoch 87/100\n",
            "27/27 [==============================] - 0s 6ms/step - loss: 6.3581e-04 - acc: 1.0000 - val_loss: 0.7223 - val_acc: 0.8929\n",
            "Epoch 88/100\n",
            "27/27 [==============================] - 0s 5ms/step - loss: 0.0080 - acc: 0.9983 - val_loss: 1.0816 - val_acc: 0.8286\n",
            "Epoch 89/100\n",
            "27/27 [==============================] - 0s 6ms/step - loss: 0.0241 - acc: 0.9947 - val_loss: 0.8593 - val_acc: 0.8714\n",
            "Epoch 90/100\n",
            "27/27 [==============================] - 0s 6ms/step - loss: 5.1251e-04 - acc: 1.0000 - val_loss: 0.9740 - val_acc: 0.8500\n",
            "Epoch 91/100\n",
            "27/27 [==============================] - 0s 5ms/step - loss: 8.8919e-04 - acc: 1.0000 - val_loss: 0.8968 - val_acc: 0.8857\n",
            "Epoch 92/100\n",
            "27/27 [==============================] - 0s 6ms/step - loss: 0.0031 - acc: 1.0000 - val_loss: 1.4272 - val_acc: 0.8214\n",
            "Epoch 93/100\n",
            "27/27 [==============================] - 0s 7ms/step - loss: 0.0013 - acc: 1.0000 - val_loss: 0.6699 - val_acc: 0.9071\n",
            "Epoch 94/100\n",
            "27/27 [==============================] - 0s 5ms/step - loss: 0.0108 - acc: 0.9971 - val_loss: 0.6244 - val_acc: 0.8929\n",
            "Epoch 95/100\n",
            "27/27 [==============================] - 0s 5ms/step - loss: 0.0025 - acc: 1.0000 - val_loss: 1.1769 - val_acc: 0.8429\n",
            "Epoch 96/100\n",
            "27/27 [==============================] - 0s 6ms/step - loss: 0.0127 - acc: 0.9957 - val_loss: 0.7694 - val_acc: 0.9000\n",
            "Epoch 97/100\n",
            "27/27 [==============================] - 0s 6ms/step - loss: 2.7991e-04 - acc: 1.0000 - val_loss: 0.6174 - val_acc: 0.8571\n",
            "Epoch 98/100\n",
            "27/27 [==============================] - 0s 5ms/step - loss: 0.0060 - acc: 0.9973 - val_loss: 0.5398 - val_acc: 0.8929\n",
            "Epoch 99/100\n",
            "27/27 [==============================] - 0s 7ms/step - loss: 0.0010 - acc: 1.0000 - val_loss: 0.8356 - val_acc: 0.8929\n",
            "Epoch 100/100\n",
            "27/27 [==============================] - 0s 5ms/step - loss: 9.3172e-04 - acc: 1.0000 - val_loss: 1.0848 - val_acc: 0.8643\n",
            "14/14 [==============================] - 0s 3ms/step - loss: 1.0848 - acc: 0.8643\n",
            "[INFO] accuracy: 86.43%\n",
            "[INFO] Loss: 1.0848209857940674\n",
            "Time:  0:00:32.335716\n"
          ],
          "name": "stdout"
        }
      ]
    },
    {
      "cell_type": "code",
      "metadata": {
        "colab": {
          "base_uri": "https://localhost:8080/"
        },
        "id": "jwz-rg4ILGWp",
        "outputId": "1d82bd1a-d0e1-43ce-b71d-25e1b83f9579"
      },
      "source": [
        "model.summary()"
      ],
      "execution_count": null,
      "outputs": [
        {
          "output_type": "stream",
          "text": [
            "Model: \"sequential\"\n",
            "_________________________________________________________________\n",
            "Layer (type)                 Output Shape              Param #   \n",
            "=================================================================\n",
            "flatten (Flatten)            (None, 25088)             0         \n",
            "_________________________________________________________________\n",
            "dense (Dense)                (None, 100)               2508900   \n",
            "_________________________________________________________________\n",
            "dropout (Dropout)            (None, 100)               0         \n",
            "_________________________________________________________________\n",
            "dense_1 (Dense)              (None, 50)                5050      \n",
            "_________________________________________________________________\n",
            "dropout_1 (Dropout)          (None, 50)                0         \n",
            "_________________________________________________________________\n",
            "dense_2 (Dense)              (None, 4)                 204       \n",
            "=================================================================\n",
            "Total params: 2,514,154\n",
            "Trainable params: 2,514,154\n",
            "Non-trainable params: 0\n",
            "_________________________________________________________________\n"
          ],
          "name": "stdout"
        }
      ]
    },
    {
      "cell_type": "code",
      "metadata": {
        "colab": {
          "base_uri": "https://localhost:8080/"
        },
        "id": "CWQ1n7p-eqT9",
        "outputId": "3150c27d-5fdf-403f-ed88-858841e82d13"
      },
      "source": [
        "model.evaluate(test_data, test_labels)"
      ],
      "execution_count": null,
      "outputs": [
        {
          "output_type": "stream",
          "text": [
            "5/5 [==============================] - 0s 4ms/step - loss: 1.3298 - acc: 0.7750\n"
          ],
          "name": "stdout"
        },
        {
          "output_type": "execute_result",
          "data": {
            "text/plain": [
              "[1.3297827243804932, 0.7749999761581421]"
            ]
          },
          "metadata": {
            "tags": []
          },
          "execution_count": 13
        }
      ]
    },
    {
      "cell_type": "code",
      "metadata": {
        "colab": {
          "base_uri": "https://localhost:8080/"
        },
        "id": "viYBrbl7fl3v",
        "outputId": "86356ba9-56c7-48a1-d2fc-357d07ebce30"
      },
      "source": [
        "print('test data', test_data)\n",
        "preds = np.round(model.predict(test_data),0) \n",
        "#to fit them into classification metrics and confusion metrics, some additional modificaitions are required\n",
        "print('rounded test_labels', preds)"
      ],
      "execution_count": null,
      "outputs": [
        {
          "output_type": "stream",
          "text": [
            "test data [[[[0.         0.         0.         ... 0.         0.3400155\n",
            "    0.        ]\n",
            "   [0.         0.         0.04417676 ... 0.         0.5239333\n",
            "    0.        ]\n",
            "   [0.         0.         0.03926063 ... 0.         0.58399385\n",
            "    0.        ]\n",
            "   ...\n",
            "   [0.         0.         0.         ... 0.         0.44304824\n",
            "    0.        ]\n",
            "   [0.         0.         0.16993403 ... 0.         0.26565635\n",
            "    0.        ]\n",
            "   [0.         0.         0.         ... 0.         0.18344456\n",
            "    0.        ]]\n",
            "\n",
            "  [[0.         0.         0.         ... 0.         0.5490206\n",
            "    0.        ]\n",
            "   [0.         0.         0.38121703 ... 0.         0.29545087\n",
            "    0.        ]\n",
            "   [0.         0.         0.4791956  ... 0.         0.4789756\n",
            "    0.        ]\n",
            "   ...\n",
            "   [0.         0.         0.6558061  ... 0.02017937 0.46012467\n",
            "    0.        ]\n",
            "   [0.         0.         0.6280757  ... 0.         0.16568542\n",
            "    0.        ]\n",
            "   [0.         0.         0.04884848 ... 0.         0.17430973\n",
            "    0.        ]]\n",
            "\n",
            "  [[0.         0.         0.         ... 0.         0.65048176\n",
            "    0.        ]\n",
            "   [0.         0.         0.4422972  ... 0.         0.45195395\n",
            "    0.        ]\n",
            "   [0.         0.         0.5579641  ... 0.         0.55929047\n",
            "    0.        ]\n",
            "   ...\n",
            "   [0.         0.         0.36741886 ... 0.01069591 0.48954928\n",
            "    0.        ]\n",
            "   [0.         0.         0.50420415 ... 0.         0.46199352\n",
            "    0.        ]\n",
            "   [0.         0.         0.01395941 ... 0.         0.5700668\n",
            "    0.        ]]\n",
            "\n",
            "  ...\n",
            "\n",
            "  [[0.         0.         0.         ... 0.         0.39754063\n",
            "    0.        ]\n",
            "   [0.         0.         0.5774735  ... 0.         0.41862628\n",
            "    0.        ]\n",
            "   [0.         0.         0.504005   ... 0.         0.57564056\n",
            "    0.        ]\n",
            "   ...\n",
            "   [0.         0.         0.3505656  ... 0.13421243 0.47824162\n",
            "    0.        ]\n",
            "   [0.         0.         0.         ... 0.         0.08353585\n",
            "    0.        ]\n",
            "   [0.         0.         0.         ... 0.         0.6313411\n",
            "    0.        ]]\n",
            "\n",
            "  [[0.         0.         0.         ... 0.         0.3515591\n",
            "    0.        ]\n",
            "   [0.         0.         0.47417095 ... 0.         0.32087246\n",
            "    0.        ]\n",
            "   [0.         0.         0.33344066 ... 0.         0.61814874\n",
            "    0.        ]\n",
            "   ...\n",
            "   [0.         0.         0.22722644 ... 0.03228531 0.69149774\n",
            "    0.        ]\n",
            "   [0.         0.         0.         ... 0.         0.1904229\n",
            "    0.        ]\n",
            "   [0.         0.         0.         ... 0.         0.14003235\n",
            "    0.        ]]\n",
            "\n",
            "  [[0.         0.         0.         ... 0.         0.85207677\n",
            "    0.        ]\n",
            "   [0.         0.         0.         ... 0.         0.8067827\n",
            "    0.        ]\n",
            "   [0.         0.         0.         ... 0.         0.6314171\n",
            "    0.        ]\n",
            "   ...\n",
            "   [0.         0.         0.         ... 0.         0.73063993\n",
            "    0.        ]\n",
            "   [0.         0.         0.         ... 0.         0.5872485\n",
            "    0.        ]\n",
            "   [0.         0.         0.         ... 0.         0.5205173\n",
            "    0.        ]]]\n",
            "\n",
            "\n",
            " [[[0.         0.         0.         ... 0.         0.56317925\n",
            "    0.        ]\n",
            "   [0.         0.         0.         ... 0.         1.0060415\n",
            "    0.        ]\n",
            "   [0.         0.         0.         ... 0.         0.861766\n",
            "    0.        ]\n",
            "   ...\n",
            "   [0.         0.         0.         ... 0.         0.7126011\n",
            "    0.        ]\n",
            "   [0.         0.         0.         ... 0.         0.8945575\n",
            "    0.        ]\n",
            "   [0.         0.         0.03888005 ... 0.         0.9630147\n",
            "    0.        ]]\n",
            "\n",
            "  [[0.         0.         0.         ... 0.         0.27238625\n",
            "    0.        ]\n",
            "   [0.         0.         0.         ... 0.         0.7668022\n",
            "    0.        ]\n",
            "   [0.         0.         0.         ... 0.         0.7823651\n",
            "    0.        ]\n",
            "   ...\n",
            "   [0.         0.         0.051853   ... 0.         0.7689886\n",
            "    0.        ]\n",
            "   [0.         0.         0.         ... 0.         0.74988425\n",
            "    0.        ]\n",
            "   [0.         0.         0.         ... 0.         0.7223688\n",
            "    0.        ]]\n",
            "\n",
            "  [[0.         0.         0.         ... 0.         0.49384528\n",
            "    0.        ]\n",
            "   [0.         0.         0.         ... 0.         0.49581274\n",
            "    0.        ]\n",
            "   [0.         0.         0.         ... 0.         0.6579969\n",
            "    0.        ]\n",
            "   ...\n",
            "   [0.         0.         0.         ... 0.         0.7754024\n",
            "    0.        ]\n",
            "   [0.         0.         0.         ... 0.         0.7703054\n",
            "    0.        ]\n",
            "   [0.         0.         0.         ... 0.         0.7034978\n",
            "    0.        ]]\n",
            "\n",
            "  ...\n",
            "\n",
            "  [[0.         0.         0.         ... 0.         0.29082882\n",
            "    0.        ]\n",
            "   [0.         0.         0.21846873 ... 0.         0.64109206\n",
            "    0.        ]\n",
            "   [0.         0.         0.19749591 ... 0.         0.68359935\n",
            "    0.        ]\n",
            "   ...\n",
            "   [0.         0.         0.47860998 ... 0.         0.74739254\n",
            "    0.        ]\n",
            "   [0.         0.         0.24140814 ... 0.         0.6059886\n",
            "    0.        ]\n",
            "   [0.         0.         0.         ... 0.         0.95420474\n",
            "    0.        ]]\n",
            "\n",
            "  [[0.         0.         0.         ... 0.         0.21616009\n",
            "    0.        ]\n",
            "   [0.         0.         0.06118232 ... 0.         0.42338634\n",
            "    0.        ]\n",
            "   [0.         0.         0.12263274 ... 0.         0.8264099\n",
            "    0.        ]\n",
            "   ...\n",
            "   [0.         0.         0.27293816 ... 0.         0.8073476\n",
            "    0.        ]\n",
            "   [0.         0.         0.1785923  ... 0.         0.36275166\n",
            "    0.        ]\n",
            "   [0.         0.         0.         ... 0.         0.847454\n",
            "    0.        ]]\n",
            "\n",
            "  [[0.         0.         0.         ... 0.         0.68244463\n",
            "    0.        ]\n",
            "   [0.         0.         0.         ... 0.         0.59350723\n",
            "    0.        ]\n",
            "   [0.         0.         0.         ... 0.         0.7743538\n",
            "    0.        ]\n",
            "   ...\n",
            "   [0.         0.         0.         ... 0.         0.6642531\n",
            "    0.        ]\n",
            "   [0.         0.         0.         ... 0.         0.49095428\n",
            "    0.        ]\n",
            "   [0.         0.         0.         ... 0.         0.7688644\n",
            "    0.        ]]]\n",
            "\n",
            "\n",
            " [[[0.         0.         0.         ... 0.         0.51549107\n",
            "    0.        ]\n",
            "   [0.         0.         0.         ... 0.         0.32131064\n",
            "    0.        ]\n",
            "   [0.         0.         0.         ... 0.         0.31348255\n",
            "    0.        ]\n",
            "   ...\n",
            "   [0.         0.         0.07513875 ... 0.         0.5923249\n",
            "    0.        ]\n",
            "   [0.         0.         0.34964934 ... 0.         0.56706035\n",
            "    0.        ]\n",
            "   [0.         0.         0.38346714 ... 0.         0.8417032\n",
            "    0.        ]]\n",
            "\n",
            "  [[0.         0.         0.         ... 0.         0.47828564\n",
            "    0.        ]\n",
            "   [0.         0.         0.1547192  ... 0.         0.48852852\n",
            "    0.        ]\n",
            "   [0.         0.         0.46501565 ... 0.         0.565032\n",
            "    0.        ]\n",
            "   ...\n",
            "   [0.         0.         0.72723305 ... 0.         0.53272676\n",
            "    0.        ]\n",
            "   [0.         0.         0.73368084 ... 0.         0.5490056\n",
            "    0.        ]\n",
            "   [0.         0.         0.18113106 ... 0.         0.84009856\n",
            "    0.        ]]\n",
            "\n",
            "  [[0.         0.         0.         ... 0.         0.44734776\n",
            "    0.        ]\n",
            "   [0.         0.         0.41742837 ... 0.         0.9652387\n",
            "    0.        ]\n",
            "   [0.         0.         0.84265816 ... 0.         0.963364\n",
            "    0.        ]\n",
            "   ...\n",
            "   [0.         0.         0.7706023  ... 0.         0.71437126\n",
            "    0.        ]\n",
            "   [0.         0.         0.58337164 ... 0.         0.85622686\n",
            "    0.        ]\n",
            "   [0.         0.         0.         ... 0.         1.0159066\n",
            "    0.        ]]\n",
            "\n",
            "  ...\n",
            "\n",
            "  [[0.         0.         0.         ... 0.         0.3616724\n",
            "    0.        ]\n",
            "   [0.         0.         0.         ... 0.         0.7808851\n",
            "    0.        ]\n",
            "   [0.         0.         0.03598452 ... 0.         0.8141642\n",
            "    0.        ]\n",
            "   ...\n",
            "   [0.         0.         0.25215942 ... 0.         0.6302027\n",
            "    0.        ]\n",
            "   [0.         0.         0.0758518  ... 0.         0.76203865\n",
            "    0.        ]\n",
            "   [0.         0.         0.         ... 0.         1.1621518\n",
            "    0.        ]]\n",
            "\n",
            "  [[0.         0.         0.         ... 0.         0.27186972\n",
            "    0.        ]\n",
            "   [0.         0.         0.         ... 0.         0.7162592\n",
            "    0.        ]\n",
            "   [0.         0.         0.         ... 0.         0.852664\n",
            "    0.        ]\n",
            "   ...\n",
            "   [0.         0.         0.47404224 ... 0.0331407  0.656619\n",
            "    0.        ]\n",
            "   [0.         0.         0.32426196 ... 0.         0.41681346\n",
            "    0.        ]\n",
            "   [0.         0.         0.00316167 ... 0.         0.72950625\n",
            "    0.        ]]\n",
            "\n",
            "  [[0.         0.         0.         ... 0.         0.9843615\n",
            "    0.        ]\n",
            "   [0.         0.         0.         ... 0.         0.569861\n",
            "    0.        ]\n",
            "   [0.         0.         0.         ... 0.         0.5670732\n",
            "    0.        ]\n",
            "   ...\n",
            "   [0.         0.         0.         ... 0.         0.80233043\n",
            "    0.        ]\n",
            "   [0.         0.         0.         ... 0.         0.8002548\n",
            "    0.        ]\n",
            "   [0.01234914 0.         0.         ... 0.         0.57797074\n",
            "    0.        ]]]\n",
            "\n",
            "\n",
            " ...\n",
            "\n",
            "\n",
            " [[[0.526255   0.         0.         ... 0.         0.5833582\n",
            "    0.        ]\n",
            "   [0.5875087  0.         0.5823852  ... 0.         0.589808\n",
            "    0.        ]\n",
            "   [0.4636901  0.         0.75702685 ... 0.         0.5788939\n",
            "    0.        ]\n",
            "   ...\n",
            "   [0.05961958 0.         1.5443642  ... 0.         2.263522\n",
            "    0.        ]\n",
            "   [0.         0.         1.1022968  ... 0.         2.7748792\n",
            "    0.        ]\n",
            "   [0.         0.         0.         ... 0.         2.031589\n",
            "    0.        ]]\n",
            "\n",
            "  [[0.70063704 0.         1.3620119  ... 0.         0.18443996\n",
            "    0.        ]\n",
            "   [0.7670021  0.         1.1139715  ... 0.         0.4014669\n",
            "    0.        ]\n",
            "   [0.87261873 0.         0.7093478  ... 0.         0.5932782\n",
            "    0.        ]\n",
            "   ...\n",
            "   [0.6856825  0.         1.5574229  ... 0.         2.1721308\n",
            "    0.        ]\n",
            "   [0.8097671  0.         1.67715    ... 0.         3.032601\n",
            "    0.        ]\n",
            "   [1.0029547  0.         1.0095123  ... 0.         2.5851948\n",
            "    0.        ]]\n",
            "\n",
            "  [[0.23299213 0.         1.0070508  ... 0.         0.42211193\n",
            "    0.        ]\n",
            "   [0.11416441 0.         0.21977746 ... 0.         0.5674884\n",
            "    0.        ]\n",
            "   [0.3230698  0.         0.         ... 0.         0.6445654\n",
            "    0.        ]\n",
            "   ...\n",
            "   [0.5446751  0.         0.         ... 0.         1.0426002\n",
            "    0.        ]\n",
            "   [0.4523781  0.         0.8091178  ... 0.         1.5291102\n",
            "    0.        ]\n",
            "   [0.72581816 0.         0.95832837 ... 0.         1.1852943\n",
            "    0.        ]]\n",
            "\n",
            "  ...\n",
            "\n",
            "  [[0.07001491 0.         0.22327167 ... 0.         0.6277814\n",
            "    0.        ]\n",
            "   [0.18765768 0.         0.16568658 ... 0.         0.7461802\n",
            "    0.        ]\n",
            "   [0.         0.         0.         ... 0.         0.7464165\n",
            "    0.        ]\n",
            "   ...\n",
            "   [0.         0.         0.         ... 0.         0.67747676\n",
            "    0.        ]\n",
            "   [0.         0.         0.12094921 ... 0.11172746 0.6668477\n",
            "    0.        ]\n",
            "   [0.         0.         0.62138087 ... 0.         0.05708629\n",
            "    0.        ]]\n",
            "\n",
            "  [[0.15921834 0.         1.0941083  ... 0.         1.4991271\n",
            "    0.        ]\n",
            "   [0.3567439  0.         0.6955975  ... 0.01103387 1.5658456\n",
            "    0.        ]\n",
            "   [0.         0.         0.         ... 0.         0.987424\n",
            "    0.        ]\n",
            "   ...\n",
            "   [0.05199367 0.         0.26201767 ... 0.2039372  0.68701196\n",
            "    0.        ]\n",
            "   [0.         0.         1.0038662  ... 0.5005255  0.7784309\n",
            "    0.        ]\n",
            "   [0.07327946 0.         0.7910807  ... 0.         0.195882\n",
            "    0.        ]]\n",
            "\n",
            "  [[0.         0.         0.7852899  ... 0.         1.3698845\n",
            "    0.        ]\n",
            "   [0.         0.         1.1120231  ... 0.         1.2571135\n",
            "    0.        ]\n",
            "   [0.         0.         0.         ... 0.         0.69402546\n",
            "    0.        ]\n",
            "   ...\n",
            "   [0.         0.         0.65143174 ... 0.         0.08863366\n",
            "    0.        ]\n",
            "   [0.0236029  0.         0.7168618  ... 0.         0.3066957\n",
            "    0.        ]\n",
            "   [0.15254925 0.         0.31246132 ... 0.03707757 0.5227526\n",
            "    0.        ]]]\n",
            "\n",
            "\n",
            " [[[0.1222263  0.         0.         ... 0.         0.7484243\n",
            "    0.        ]\n",
            "   [0.24658033 0.         0.7667452  ... 0.         0.4094935\n",
            "    0.        ]\n",
            "   [0.8240122  0.         2.0062602  ... 0.         0.6458827\n",
            "    0.        ]\n",
            "   ...\n",
            "   [0.3112681  0.         1.552706   ... 0.         1.354325\n",
            "    0.        ]\n",
            "   [0.55119634 0.         1.3186419  ... 0.         2.0995226\n",
            "    0.        ]\n",
            "   [0.1349492  0.         0.         ... 0.         1.722789\n",
            "    0.        ]]\n",
            "\n",
            "  [[0.75844556 0.         0.64419645 ... 0.         0.3845511\n",
            "    0.        ]\n",
            "   [0.70827043 0.         1.8158274  ... 0.         0.40751728\n",
            "    0.        ]\n",
            "   [1.0082815  0.         1.8698726  ... 0.         0.5043607\n",
            "    0.        ]\n",
            "   ...\n",
            "   [0.56528616 0.         1.3416209  ... 0.         1.0640223\n",
            "    0.        ]\n",
            "   [0.64909923 0.         1.6642771  ... 0.         2.0406573\n",
            "    0.        ]\n",
            "   [0.6070845  0.         1.3866656  ... 0.         1.7055523\n",
            "    0.        ]]\n",
            "\n",
            "  [[0.30212733 0.         0.39759415 ... 0.         0.\n",
            "    0.        ]\n",
            "   [0.08260906 0.         1.1686311  ... 0.         0.50210094\n",
            "    0.        ]\n",
            "   [0.         0.         0.5003814  ... 0.         0.7079201\n",
            "    0.        ]\n",
            "   ...\n",
            "   [0.05938596 0.         0.         ... 0.         0.67709327\n",
            "    0.        ]\n",
            "   [0.         0.         0.27402663 ... 0.         0.89581114\n",
            "    0.        ]\n",
            "   [0.16072334 0.         1.1757777  ... 0.         0.44330662\n",
            "    0.        ]]\n",
            "\n",
            "  ...\n",
            "\n",
            "  [[0.6242558  0.         0.9003227  ... 0.         1.5388649\n",
            "    0.        ]\n",
            "   [0.48888767 0.         0.39219695 ... 0.         1.5561798\n",
            "    0.        ]\n",
            "   [0.44063377 0.         0.02996498 ... 0.         1.1213435\n",
            "    0.        ]\n",
            "   ...\n",
            "   [0.24948403 0.         0.         ... 0.         0.6485539\n",
            "    0.        ]\n",
            "   [0.2757827  0.         0.40322667 ... 0.15278322 0.63448024\n",
            "    0.        ]\n",
            "   [0.0535652  0.         0.92291296 ... 0.         0.\n",
            "    0.        ]]\n",
            "\n",
            "  [[0.         0.         0.30659336 ... 0.         1.6740131\n",
            "    0.        ]\n",
            "   [0.02166599 0.         0.6296268  ... 0.         2.1124425\n",
            "    0.        ]\n",
            "   [0.48522317 0.         0.7562451  ... 0.         2.022603\n",
            "    0.        ]\n",
            "   ...\n",
            "   [0.36236644 0.         0.3283956  ... 0.         0.8294401\n",
            "    0.        ]\n",
            "   [0.20554285 0.         1.1676629  ... 0.12229006 0.89438474\n",
            "    0.        ]\n",
            "   [0.21264517 0.         1.0179886  ... 0.         0.24982402\n",
            "    0.        ]]\n",
            "\n",
            "  [[0.         0.         0.06020552 ... 0.         1.3112143\n",
            "    0.        ]\n",
            "   [0.         0.         0.57196283 ... 0.         1.6317534\n",
            "    0.        ]\n",
            "   [0.         0.         1.0471423  ... 0.         1.539263\n",
            "    0.        ]\n",
            "   ...\n",
            "   [0.         0.         1.065839   ... 0.         0.48907286\n",
            "    0.        ]\n",
            "   [0.07440725 0.         1.2194033  ... 0.         0.8187766\n",
            "    0.        ]\n",
            "   [0.17890745 0.         0.46779233 ... 0.         0.75316226\n",
            "    0.        ]]]\n",
            "\n",
            "\n",
            " [[[0.8070172  0.         0.         ... 0.         0.9213018\n",
            "    0.        ]\n",
            "   [0.516271   0.         1.1003126  ... 0.         1.0923536\n",
            "    0.        ]\n",
            "   [0.55919224 0.         0.7206572  ... 0.         0.960123\n",
            "    0.        ]\n",
            "   ...\n",
            "   [0.         0.         1.4299911  ... 0.         1.8566129\n",
            "    0.        ]\n",
            "   [0.50574356 0.         1.0797168  ... 0.         2.7813933\n",
            "    0.        ]\n",
            "   [0.62913644 0.         0.         ... 0.         2.1861675\n",
            "    0.        ]]\n",
            "\n",
            "  [[0.91467977 0.         1.1213224  ... 0.         0.80701256\n",
            "    0.        ]\n",
            "   [0.68843126 0.         1.075896   ... 0.         0.81357986\n",
            "    0.        ]\n",
            "   [0.54955924 0.         0.38847908 ... 0.         0.5888652\n",
            "    0.        ]\n",
            "   ...\n",
            "   [0.20436376 0.         1.0957582  ... 0.         1.8087606\n",
            "    0.        ]\n",
            "   [0.7860543  0.         1.3374999  ... 0.         2.8109694\n",
            "    0.        ]\n",
            "   [1.286844   0.         1.138672   ... 0.         2.5002596\n",
            "    0.        ]]\n",
            "\n",
            "  [[0.22070915 0.         1.2680378  ... 0.         0.47126418\n",
            "    0.        ]\n",
            "   [0.0787569  0.         0.36073023 ... 0.         0.61397666\n",
            "    0.        ]\n",
            "   [0.         0.         0.         ... 0.         0.6771812\n",
            "    0.        ]\n",
            "   ...\n",
            "   [0.15696716 0.         0.         ... 0.         1.2225609\n",
            "    0.        ]\n",
            "   [0.18459523 0.         0.7988943  ... 0.         1.989764\n",
            "    0.        ]\n",
            "   [0.95703655 0.         1.4720751  ... 0.         1.8753719\n",
            "    0.        ]]\n",
            "\n",
            "  ...\n",
            "\n",
            "  [[0.19027871 0.         0.6361334  ... 0.         1.7417364\n",
            "    0.        ]\n",
            "   [0.27214068 0.         0.59180266 ... 0.12132695 1.9374297\n",
            "    0.        ]\n",
            "   [0.         0.         0.16119748 ... 0.05769352 1.3493898\n",
            "    0.        ]\n",
            "   ...\n",
            "   [0.         0.         0.         ... 0.         0.6667981\n",
            "    0.        ]\n",
            "   [0.         0.         0.         ... 0.         0.68015546\n",
            "    0.        ]\n",
            "   [0.         0.         0.86150134 ... 0.         0.17670918\n",
            "    0.        ]]\n",
            "\n",
            "  [[0.15576129 0.         0.6201778  ... 0.         1.809968\n",
            "    0.        ]\n",
            "   [0.21734726 0.         0.9765461  ... 0.         2.2383945\n",
            "    0.        ]\n",
            "   [0.28085268 0.         0.5549571  ... 0.         2.0202258\n",
            "    0.        ]\n",
            "   ...\n",
            "   [0.10249756 0.         0.         ... 0.         0.64412767\n",
            "    0.        ]\n",
            "   [0.10646455 0.         0.8950178  ... 0.3975992  0.7055624\n",
            "    0.        ]\n",
            "   [0.49770513 0.         0.74037546 ... 0.         0.\n",
            "    0.        ]]\n",
            "\n",
            "  [[0.06763782 0.         0.17411536 ... 0.         1.1770909\n",
            "    0.        ]\n",
            "   [0.         0.         1.0124909  ... 0.         1.5848324\n",
            "    0.        ]\n",
            "   [0.14631954 0.         1.1127305  ... 0.         1.644321\n",
            "    0.        ]\n",
            "   ...\n",
            "   [0.         0.         0.9919941  ... 0.13053344 0.5008491\n",
            "    0.        ]\n",
            "   [0.2587601  0.         1.689466   ... 0.01574696 0.16134205\n",
            "    0.        ]\n",
            "   [0.41585094 0.         1.1558359  ... 0.01385587 0.39099002\n",
            "    0.        ]]]]\n",
            "rounded test_labels [[1. 0. 0. 0.]\n",
            " [1. 0. 0. 0.]\n",
            " [1. 0. 0. 0.]\n",
            " [1. 0. 0. 0.]\n",
            " [1. 0. 0. 0.]\n",
            " [1. 0. 0. 0.]\n",
            " [1. 0. 0. 0.]\n",
            " [1. 0. 0. 0.]\n",
            " [1. 0. 0. 0.]\n",
            " [1. 0. 0. 0.]\n",
            " [1. 0. 0. 0.]\n",
            " [1. 0. 0. 0.]\n",
            " [1. 0. 0. 0.]\n",
            " [1. 0. 0. 0.]\n",
            " [1. 0. 0. 0.]\n",
            " [1. 0. 0. 0.]\n",
            " [1. 0. 0. 0.]\n",
            " [1. 0. 0. 0.]\n",
            " [1. 0. 0. 0.]\n",
            " [1. 0. 0. 0.]\n",
            " [0. 1. 0. 0.]\n",
            " [0. 0. 0. 1.]\n",
            " [0. 1. 0. 0.]\n",
            " [0. 1. 0. 0.]\n",
            " [0. 0. 0. 1.]\n",
            " [0. 0. 0. 1.]\n",
            " [0. 0. 0. 1.]\n",
            " [0. 1. 0. 0.]\n",
            " [0. 1. 0. 0.]\n",
            " [0. 0. 0. 1.]\n",
            " [0. 0. 0. 1.]\n",
            " [0. 1. 0. 0.]\n",
            " [0. 0. 0. 1.]\n",
            " [0. 0. 0. 1.]\n",
            " [0. 1. 0. 0.]\n",
            " [0. 1. 0. 0.]\n",
            " [0. 1. 0. 0.]\n",
            " [0. 1. 0. 0.]\n",
            " [0. 1. 0. 0.]\n",
            " [0. 0. 0. 1.]\n",
            " [0. 1. 0. 0.]\n",
            " [0. 1. 0. 0.]\n",
            " [0. 0. 0. 1.]\n",
            " [0. 1. 0. 0.]\n",
            " [0. 1. 0. 0.]\n",
            " [0. 0. 0. 1.]\n",
            " [0. 1. 0. 0.]\n",
            " [0. 1. 0. 0.]\n",
            " [0. 0. 0. 1.]\n",
            " [0. 0. 0. 1.]\n",
            " [0. 1. 0. 0.]\n",
            " [0. 1. 0. 0.]\n",
            " [0. 0. 0. 1.]\n",
            " [0. 1. 0. 0.]\n",
            " [0. 0. 0. 1.]\n",
            " [0. 1. 0. 0.]\n",
            " [0. 0. 0. 1.]\n",
            " [0. 1. 0. 0.]\n",
            " [0. 1. 0. 0.]\n",
            " [0. 1. 0. 0.]\n",
            " [0. 1. 0. 0.]\n",
            " [0. 1. 0. 0.]\n",
            " [0. 0. 0. 1.]\n",
            " [0. 0. 0. 1.]\n",
            " [0. 1. 0. 0.]\n",
            " [0. 1. 0. 0.]\n",
            " [0. 0. 0. 1.]\n",
            " [0. 0. 0. 1.]\n",
            " [0. 1. 0. 0.]\n",
            " [0. 1. 0. 0.]\n",
            " [0. 0. 1. 0.]\n",
            " [0. 0. 1. 0.]\n",
            " [0. 0. 1. 0.]\n",
            " [0. 0. 1. 0.]\n",
            " [0. 0. 1. 0.]\n",
            " [0. 0. 1. 0.]\n",
            " [0. 0. 1. 0.]\n",
            " [0. 0. 1. 0.]\n",
            " [0. 0. 1. 0.]\n",
            " [0. 0. 1. 0.]\n",
            " [0. 0. 1. 0.]\n",
            " [0. 0. 1. 0.]\n",
            " [0. 0. 1. 0.]\n",
            " [0. 0. 1. 0.]\n",
            " [0. 0. 1. 0.]\n",
            " [0. 0. 1. 0.]\n",
            " [0. 0. 1. 0.]\n",
            " [0. 0. 1. 0.]\n",
            " [0. 0. 1. 0.]\n",
            " [0. 0. 1. 0.]\n",
            " [0. 0. 1. 0.]\n",
            " [0. 0. 1. 0.]\n",
            " [0. 0. 1. 0.]\n",
            " [0. 0. 1. 0.]\n",
            " [0. 0. 1. 0.]\n",
            " [0. 0. 1. 0.]\n",
            " [0. 0. 1. 0.]\n",
            " [0. 0. 1. 0.]\n",
            " [0. 0. 1. 0.]\n",
            " [0. 0. 1. 0.]\n",
            " [0. 0. 1. 0.]\n",
            " [0. 0. 1. 0.]\n",
            " [0. 0. 1. 0.]\n",
            " [0. 0. 1. 0.]\n",
            " [0. 0. 1. 0.]\n",
            " [0. 0. 1. 0.]\n",
            " [0. 0. 1. 0.]\n",
            " [0. 0. 1. 0.]\n",
            " [0. 0. 1. 0.]\n",
            " [0. 0. 1. 0.]\n",
            " [0. 1. 0. 0.]\n",
            " [0. 0. 0. 1.]\n",
            " [0. 1. 0. 0.]\n",
            " [0. 0. 0. 1.]\n",
            " [0. 1. 0. 0.]\n",
            " [0. 0. 0. 1.]\n",
            " [0. 1. 0. 0.]\n",
            " [0. 0. 0. 1.]\n",
            " [0. 0. 0. 1.]\n",
            " [0. 1. 0. 0.]\n",
            " [0. 0. 0. 1.]\n",
            " [0. 0. 0. 1.]\n",
            " [0. 1. 0. 0.]\n",
            " [0. 1. 0. 0.]\n",
            " [0. 1. 0. 0.]\n",
            " [0. 0. 0. 1.]\n",
            " [0. 0. 0. 1.]\n",
            " [0. 0. 0. 1.]\n",
            " [0. 0. 0. 1.]\n",
            " [0. 0. 0. 1.]\n",
            " [0. 0. 0. 1.]\n",
            " [0. 0. 0. 1.]\n",
            " [0. 1. 0. 0.]\n",
            " [0. 0. 0. 1.]\n",
            " [0. 0. 0. 1.]\n",
            " [0. 0. 0. 1.]\n",
            " [0. 0. 0. 1.]\n",
            " [0. 1. 0. 0.]\n",
            " [0. 0. 0. 1.]\n",
            " [0. 0. 0. 1.]\n",
            " [0. 0. 0. 1.]\n",
            " [0. 0. 0. 1.]\n",
            " [0. 0. 0. 1.]\n",
            " [0. 0. 0. 1.]\n",
            " [0. 0. 0. 1.]\n",
            " [0. 0. 0. 1.]\n",
            " [0. 0. 0. 1.]\n",
            " [0. 0. 0. 1.]\n",
            " [0. 0. 0. 1.]\n",
            " [0. 0. 0. 1.]\n",
            " [0. 1. 0. 0.]\n",
            " [0. 1. 0. 0.]\n",
            " [0. 1. 0. 0.]\n",
            " [0. 0. 0. 1.]\n",
            " [0. 0. 0. 1.]\n",
            " [0. 1. 0. 0.]\n",
            " [0. 0. 0. 1.]\n",
            " [0. 0. 0. 1.]\n",
            " [0. 1. 0. 0.]\n",
            " [0. 1. 0. 0.]]\n"
          ],
          "name": "stdout"
        }
      ]
    },
    {
      "cell_type": "code",
      "metadata": {
        "colab": {
          "base_uri": "https://localhost:8080/"
        },
        "id": "w4zf6cjoe0e9",
        "outputId": "8670574d-8ccd-48ac-e802-952ae1cf938b"
      },
      "source": [
        "data = ['Lukemia', 'Anemia', 'Malaria', 'Healthy']\n",
        "classification_metrics = metrics.classification_report(test_labels, preds, target_names=data )\n",
        "print(classification_metrics)"
      ],
      "execution_count": null,
      "outputs": [
        {
          "output_type": "stream",
          "text": [
            "              precision    recall  f1-score   support\n",
            "\n",
            "     Lukemia       1.00      1.00      1.00        20\n",
            "      Anemia       0.65      0.60      0.63        50\n",
            "     Malaria       1.00      1.00      1.00        40\n",
            "     Healthy       0.63      0.68      0.65        50\n",
            "\n",
            "   micro avg       0.78      0.78      0.78       160\n",
            "   macro avg       0.82      0.82      0.82       160\n",
            "weighted avg       0.78      0.78      0.77       160\n",
            " samples avg       0.78      0.78      0.78       160\n",
            "\n"
          ],
          "name": "stdout"
        }
      ]
    },
    {
      "cell_type": "code",
      "metadata": {
        "id": "QqcRN_wagEqx"
      },
      "source": [
        "def read_image(file_path):\n",
        "    print(\"[INFO] loading and preprocessing image...\")  \n",
        "    image = load_img(file_path, target_size=(224, 224))  \n",
        "    image = img_to_array(image)  \n",
        "    image = np.expand_dims(image, axis=0)\n",
        "    image /= 255.  \n",
        "    return image"
      ],
      "execution_count": null,
      "outputs": []
    },
    {
      "cell_type": "code",
      "metadata": {
        "id": "J0KnGYZegKuQ"
      },
      "source": [
        "def test_single_image(path):\n",
        "    data= ['Lukemia', 'Anemia', 'Malaria', 'Healthy']\n",
        "    images = read_image(path)\n",
        "    time.sleep(.5)\n",
        "    bt_prediction = vgg16.predict(images)  \n",
        "    preds = model.predict_proba(bt_prediction)\n",
        "    for idx, animal, x in zip(range(0,6), data , preds[0]):\n",
        "        print(\"ID: {}, Label: {} {}%\".format(idx, data, round(x*100,2) ))\n",
        "    print('Final Decision:')\n",
        "    time.sleep(.5)\n",
        "    for x in range(3):\n",
        "        print('.'*(x+1))\n",
        "        time.sleep(.2)\n",
        "    class_predicted = model.predict_classes(bt_prediction)\n",
        "    class_dictionary = generator_top.class_indices  \n",
        "    inv_map = {v: k for k, v in class_dictionary.items()}  \n",
        "    print(\"ID: {}, Label: {}\".format(class_predicted[0], inv_map[class_predicted[0]]))  \n",
        "    return load_img(path)"
      ],
      "execution_count": null,
      "outputs": []
    },
    {
      "cell_type": "code",
      "metadata": {
        "id": "rYsf1Uhbgoes"
      },
      "source": [
        "path='/content/drive/MyDrive/data/train/Anemia/download (1).png'"
      ],
      "execution_count": null,
      "outputs": []
    },
    {
      "cell_type": "code",
      "metadata": {
        "colab": {
          "base_uri": "https://localhost:8080/",
          "height": 393
        },
        "id": "cq-_dLCKgxPU",
        "outputId": "ba7e7582-d549-4bbb-811e-93550fc7b9ec"
      },
      "source": [
        "test_single_image(path)"
      ],
      "execution_count": null,
      "outputs": [
        {
          "output_type": "stream",
          "text": [
            "[INFO] loading and preprocessing image...\n"
          ],
          "name": "stdout"
        },
        {
          "output_type": "stream",
          "text": [
            "/usr/local/lib/python3.7/dist-packages/keras/engine/sequential.py:425: UserWarning: `model.predict_proba()` is deprecated and will be removed after 2021-01-01. Please use `model.predict()` instead.\n",
            "  warnings.warn('`model.predict_proba()` is deprecated and '\n"
          ],
          "name": "stderr"
        },
        {
          "output_type": "stream",
          "text": [
            "ID: 0, Label: ['Lukemia', 'Anemia', 'Malaria', 'Healthy'] 100.0%\n",
            "ID: 1, Label: ['Lukemia', 'Anemia', 'Malaria', 'Healthy'] 0.0%\n",
            "ID: 2, Label: ['Lukemia', 'Anemia', 'Malaria', 'Healthy'] 0.0%\n",
            "ID: 3, Label: ['Lukemia', 'Anemia', 'Malaria', 'Healthy'] 0.0%\n",
            "Final Decision:\n",
            ".\n",
            "..\n",
            "...\n",
            "ID: 0, Label: Anemia\n"
          ],
          "name": "stdout"
        },
        {
          "output_type": "stream",
          "text": [
            "/usr/local/lib/python3.7/dist-packages/keras/engine/sequential.py:450: UserWarning: `model.predict_classes()` is deprecated and will be removed after 2021-01-01. Please use instead:* `np.argmax(model.predict(x), axis=-1)`,   if your model does multi-class classification   (e.g. if it uses a `softmax` last-layer activation).* `(model.predict(x) > 0.5).astype(\"int32\")`,   if your model does binary classification   (e.g. if it uses a `sigmoid` last-layer activation).\n",
            "  warnings.warn('`model.predict_classes()` is deprecated and '\n"
          ],
          "name": "stderr"
        },
        {
          "output_type": "execute_result",
          "data": {
            "image/png": "[encoded data removed]",
            "text/plain": [
              "<PIL.Image.Image image mode=RGB size=148x113 at 0x7F8E352303D0>"
            ]
          },
          "metadata": {
            "tags": []
          },
          "execution_count": 19
        }
      ]
    },
    {
      "cell_type": "code",
      "metadata": {
        "id": "XtV4MDBPg-mB"
      },
      "source": [
        "path2='/content/drive/MyDrive/data/train/Lukemia/1.PNG'"
      ],
      "execution_count": null,
      "outputs": []
    },
    {
      "cell_type": "code",
      "metadata": {
        "colab": {
          "base_uri": "https://localhost:8080/",
          "height": 486
        },
        "id": "FBHZR2VRhDjQ",
        "outputId": "bb865a24-be32-485e-ba73-37724685c9c7"
      },
      "source": [
        "test_single_image(path2)"
      ],
      "execution_count": null,
      "outputs": [
        {
          "output_type": "stream",
          "text": [
            "[INFO] loading and preprocessing image...\n"
          ],
          "name": "stdout"
        },
        {
          "output_type": "stream",
          "text": [
            "/usr/local/lib/python3.7/dist-packages/keras/engine/sequential.py:425: UserWarning: `model.predict_proba()` is deprecated and will be removed after 2021-01-01. Please use `model.predict()` instead.\n",
            "  warnings.warn('`model.predict_proba()` is deprecated and '\n"
          ],
          "name": "stderr"
        },
        {
          "output_type": "stream",
          "text": [
            "ID: 0, Label: ['Lukemia', 'Anemia', 'Malaria', 'Healthy'] 0.0%\n",
            "ID: 1, Label: ['Lukemia', 'Anemia', 'Malaria', 'Healthy'] 0.0%\n",
            "ID: 2, Label: ['Lukemia', 'Anemia', 'Malaria', 'Healthy'] 100.0%\n",
            "ID: 3, Label: ['Lukemia', 'Anemia', 'Malaria', 'Healthy'] 0.0%\n",
            "Final Decision:\n",
            ".\n",
            "..\n",
            "...\n",
            "ID: 2, Label: Lukemia\n"
          ],
          "name": "stdout"
        },
        {
          "output_type": "stream",
          "text": [
            "/usr/local/lib/python3.7/dist-packages/keras/engine/sequential.py:450: UserWarning: `model.predict_classes()` is deprecated and will be removed after 2021-01-01. Please use instead:* `np.argmax(model.predict(x), axis=-1)`,   if your model does multi-class classification   (e.g. if it uses a `softmax` last-layer activation).* `(model.predict(x) > 0.5).astype(\"int32\")`,   if your model does binary classification   (e.g. if it uses a `sigmoid` last-layer activation).\n",
            "  warnings.warn('`model.predict_classes()` is deprecated and '\n"
          ],
          "name": "stderr"
        },
        {
          "output_type": "execute_result",
          "data": {
            "image/png": "[encoded data removed]",
            "text/plain": [
              "<PIL.Image.Image image mode=RGB size=206x206 at 0x7F8E3E0C3350>"
            ]
          },
          "metadata": {
            "tags": []
          },
          "execution_count": 21
        }
      ]
    },
    {
      "cell_type": "code",
      "metadata": {
        "colab": {
          "base_uri": "https://localhost:8080/",
          "height": 395
        },
        "id": "gKJny5zWhSGY",
        "outputId": "fadd2f26-3620-4072-c198-14d4063b9706"
      },
      "source": [
        "path3='/content/drive/MyDrive/data/train/Healthy/C1_thinF_IMG_20150604_104722_cell_115.png'\n",
        "test_single_image(path3)"
      ],
      "execution_count": null,
      "outputs": [
        {
          "output_type": "stream",
          "text": [
            "[INFO] loading and preprocessing image...\n"
          ],
          "name": "stdout"
        },
        {
          "output_type": "stream",
          "text": [
            "/usr/local/lib/python3.7/dist-packages/keras/engine/sequential.py:425: UserWarning: `model.predict_proba()` is deprecated and will be removed after 2021-01-01. Please use `model.predict()` instead.\n",
            "  warnings.warn('`model.predict_proba()` is deprecated and '\n"
          ],
          "name": "stderr"
        },
        {
          "output_type": "stream",
          "text": [
            "ID: 0, Label: ['Lukemia', 'Anemia', 'Malaria', 'Healthy'] 0.0%\n",
            "ID: 1, Label: ['Lukemia', 'Anemia', 'Malaria', 'Healthy'] 100.0%\n",
            "ID: 2, Label: ['Lukemia', 'Anemia', 'Malaria', 'Healthy'] 0.0%\n",
            "ID: 3, Label: ['Lukemia', 'Anemia', 'Malaria', 'Healthy'] 0.0%\n",
            "Final Decision:\n",
            ".\n",
            "..\n",
            "...\n",
            "ID: 1, Label: Healthy\n"
          ],
          "name": "stdout"
        },
        {
          "output_type": "stream",
          "text": [
            "/usr/local/lib/python3.7/dist-packages/keras/engine/sequential.py:450: UserWarning: `model.predict_classes()` is deprecated and will be removed after 2021-01-01. Please use instead:* `np.argmax(model.predict(x), axis=-1)`,   if your model does multi-class classification   (e.g. if it uses a `softmax` last-layer activation).* `(model.predict(x) > 0.5).astype(\"int32\")`,   if your model does binary classification   (e.g. if it uses a `sigmoid` last-layer activation).\n",
            "  warnings.warn('`model.predict_classes()` is deprecated and '\n"
          ],
          "name": "stderr"
        },
        {
          "output_type": "execute_result",
          "data": {
            "image/png": "[encoded data removed]",
            "text/plain": [
              "<PIL.PngImagePlugin.PngImageFile image mode=RGB size=133x115 at 0x7F8E352DA510>"
            ]
          },
          "metadata": {
            "tags": []
          },
          "execution_count": 22
        }
      ]
    },
    {
      "cell_type": "code",
      "metadata": {
        "colab": {
          "base_uri": "https://localhost:8080/",
          "height": 434
        },
        "id": "J2zWOY1Zhakj",
        "outputId": "892fc6de-5c5d-4578-ab52-8212d45a6cb8"
      },
      "source": [
        "path4='/content/drive/MyDrive/data/train/Malaria/C33P1thinF_IMG_20150619_114756a_cell_180.png'\n",
        "test_single_image(path4)"
      ],
      "execution_count": null,
      "outputs": [
        {
          "output_type": "stream",
          "text": [
            "[INFO] loading and preprocessing image...\n"
          ],
          "name": "stdout"
        },
        {
          "output_type": "stream",
          "text": [
            "/usr/local/lib/python3.7/dist-packages/keras/engine/sequential.py:425: UserWarning: `model.predict_proba()` is deprecated and will be removed after 2021-01-01. Please use `model.predict()` instead.\n",
            "  warnings.warn('`model.predict_proba()` is deprecated and '\n"
          ],
          "name": "stderr"
        },
        {
          "output_type": "stream",
          "text": [
            "ID: 0, Label: ['Lukemia', 'Anemia', 'Malaria', 'Healthy'] 0.0%\n",
            "ID: 1, Label: ['Lukemia', 'Anemia', 'Malaria', 'Healthy'] 0.0%\n",
            "ID: 2, Label: ['Lukemia', 'Anemia', 'Malaria', 'Healthy'] 0.0%\n",
            "ID: 3, Label: ['Lukemia', 'Anemia', 'Malaria', 'Healthy'] 100.0%\n",
            "Final Decision:\n",
            ".\n",
            "..\n",
            "...\n",
            "ID: 3, Label: Malaria\n"
          ],
          "name": "stdout"
        },
        {
          "output_type": "stream",
          "text": [
            "/usr/local/lib/python3.7/dist-packages/keras/engine/sequential.py:450: UserWarning: `model.predict_classes()` is deprecated and will be removed after 2021-01-01. Please use instead:* `np.argmax(model.predict(x), axis=-1)`,   if your model does multi-class classification   (e.g. if it uses a `softmax` last-layer activation).* `(model.predict(x) > 0.5).astype(\"int32\")`,   if your model does binary classification   (e.g. if it uses a `sigmoid` last-layer activation).\n",
            "  warnings.warn('`model.predict_classes()` is deprecated and '\n"
          ],
          "name": "stderr"
        },
        {
          "output_type": "execute_result",
          "data": {
            "image/png": "[encoded data removed]",
            "text/plain": [
              "<PIL.PngImagePlugin.PngImageFile image mode=RGB size=127x154 at 0x7F8E35001790>"
            ]
          },
          "metadata": {
            "tags": []
          },
          "execution_count": 23
        }
      ]
    }
  ]
}